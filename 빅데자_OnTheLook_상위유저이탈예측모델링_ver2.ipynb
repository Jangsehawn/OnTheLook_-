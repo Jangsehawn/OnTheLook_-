{
 "cells": [
  {
   "cell_type": "code",
   "execution_count": 1,
   "metadata": {},
   "outputs": [
    {
     "name": "stdout",
     "output_type": "stream",
     "text": [
      "E:\\\n"
     ]
    }
   ],
   "source": [
    "import os\n",
    "import pandas as pd\n",
    "import numpy as np \n",
    "\n",
    "os.chdir(\"E:/\")\n",
    "print(os.getcwd())"
   ]
  },
  {
   "cell_type": "code",
   "execution_count": 35,
   "metadata": {},
   "outputs": [],
   "source": [
    " no_click_user=pd.read_csv('no_click_user_ver2.csv')"
   ]
  },
  {
   "cell_type": "code",
   "execution_count": 29,
   "metadata": {},
   "outputs": [],
   "source": [
    "total_user=pd.read_csv('Cohort_RFM상위20%유저_ver2.csv')"
   ]
  },
  {
   "cell_type": "code",
   "execution_count": 36,
   "metadata": {},
   "outputs": [
    {
     "data": {
      "text/html": [
       "<div>\n",
       "<style scoped>\n",
       "    .dataframe tbody tr th:only-of-type {\n",
       "        vertical-align: middle;\n",
       "    }\n",
       "\n",
       "    .dataframe tbody tr th {\n",
       "        vertical-align: top;\n",
       "    }\n",
       "\n",
       "    .dataframe thead th {\n",
       "        text-align: right;\n",
       "    }\n",
       "</style>\n",
       "<table border=\"1\" class=\"dataframe\">\n",
       "  <thead>\n",
       "    <tr style=\"text-align: right;\">\n",
       "      <th></th>\n",
       "      <th>\\tamplitude_id</th>\n",
       "      <th>\\tuser_id</th>\n",
       "      <th>\\tcity</th>\n",
       "      <th>\\tcountry</th>\n",
       "      <th>\\tdevice</th>\n",
       "      <th>\\tdevice_type</th>\n",
       "      <th>\\tip_address</th>\n",
       "      <th>\\tlanguage</th>\n",
       "      <th>\\tlibrary</th>\n",
       "      <th>\\tos</th>\n",
       "      <th>\\tplatform</th>\n",
       "      <th>\\tregion</th>\n",
       "      <th>\\tgp:isCreator</th>\n",
       "      <th>\\tgp:isEnablePush</th>\n",
       "      <th>\\tgp:isLogin</th>\n",
       "      <th>\\tgp:joinedAt</th>\n",
       "      <th>\\tgp:loginType</th>\n",
       "      <th>\\tgp:platform</th>\n",
       "    </tr>\n",
       "  </thead>\n",
       "  <tbody>\n",
       "    <tr>\n",
       "      <th>0</th>\n",
       "      <td>193812365143</td>\n",
       "      <td>\\t</td>\n",
       "      <td>\\tSeoul</td>\n",
       "      <td>\\tSouth Korea</td>\n",
       "      <td>\\tAndroid</td>\n",
       "      <td>\\tAndroid</td>\n",
       "      <td>\\t106.101.66.208</td>\n",
       "      <td>\\tKorean</td>\n",
       "      <td>\\tamplitude-js/7.1.1</td>\n",
       "      <td>\\tChrome WebView 86</td>\n",
       "      <td>\\tWeb</td>\n",
       "      <td>\\tSeoul</td>\n",
       "      <td>\\t</td>\n",
       "      <td>\\t</td>\n",
       "      <td>\\tFalse</td>\n",
       "      <td>\\t</td>\n",
       "      <td>\\t</td>\n",
       "      <td>\\tandroid app</td>\n",
       "    </tr>\n",
       "    <tr>\n",
       "      <th>1</th>\n",
       "      <td>193817504449</td>\n",
       "      <td>\\t</td>\n",
       "      <td>\\tYongin-si</td>\n",
       "      <td>\\tSouth Korea</td>\n",
       "      <td>\\tApple iPhone</td>\n",
       "      <td>\\tApple iPhone</td>\n",
       "      <td>\\t59.12.82.48</td>\n",
       "      <td>\\tKorean</td>\n",
       "      <td>\\tamplitude-js/7.1.1</td>\n",
       "      <td>\\tWebKit 605</td>\n",
       "      <td>\\tWeb</td>\n",
       "      <td>\\tGyeonggi-do</td>\n",
       "      <td>\\t</td>\n",
       "      <td>\\t</td>\n",
       "      <td>\\tFalse</td>\n",
       "      <td>\\t</td>\n",
       "      <td>\\t</td>\n",
       "      <td>\\tios app</td>\n",
       "    </tr>\n",
       "    <tr>\n",
       "      <th>2</th>\n",
       "      <td>193824210458</td>\n",
       "      <td>\\t</td>\n",
       "      <td>\\tSeoul</td>\n",
       "      <td>\\tSouth Korea</td>\n",
       "      <td>\\tApple iPhone</td>\n",
       "      <td>\\tApple iPhone</td>\n",
       "      <td>\\t39.7.28.180</td>\n",
       "      <td>\\tEnglish</td>\n",
       "      <td>\\tamplitude-js/7.1.1</td>\n",
       "      <td>\\tChrome Mobile 86</td>\n",
       "      <td>\\tWeb</td>\n",
       "      <td>\\tSeoul</td>\n",
       "      <td>\\t</td>\n",
       "      <td>\\t</td>\n",
       "      <td>\\tFalse</td>\n",
       "      <td>\\t</td>\n",
       "      <td>\\t</td>\n",
       "      <td>\\tweb</td>\n",
       "    </tr>\n",
       "    <tr>\n",
       "      <th>3</th>\n",
       "      <td>193825902534</td>\n",
       "      <td>\\t17967</td>\n",
       "      <td>\\tGurye-gun</td>\n",
       "      <td>\\tSouth Korea</td>\n",
       "      <td>\\tApple iPhone</td>\n",
       "      <td>\\tApple iPhone</td>\n",
       "      <td>\\t117.111.174.49</td>\n",
       "      <td>\\tKorean</td>\n",
       "      <td>\\tamplitude-js/7.1.1</td>\n",
       "      <td>\\tWebKit 605</td>\n",
       "      <td>\\tWeb</td>\n",
       "      <td>\\tJeollanam-do</td>\n",
       "      <td>\\tFalse</td>\n",
       "      <td>\\tFalse</td>\n",
       "      <td>\\tTrue</td>\n",
       "      <td>\\t20200907</td>\n",
       "      <td>\\tkakao</td>\n",
       "      <td>\\tios app</td>\n",
       "    </tr>\n",
       "    <tr>\n",
       "      <th>4</th>\n",
       "      <td>193832337826</td>\n",
       "      <td>\\t2607</td>\n",
       "      <td>\\tSeoul</td>\n",
       "      <td>\\tSouth Korea</td>\n",
       "      <td>\\tAndroid</td>\n",
       "      <td>\\tAndroid</td>\n",
       "      <td>\\t223.39.204.67</td>\n",
       "      <td>\\tKorean</td>\n",
       "      <td>\\tamplitude-js/7.1.1</td>\n",
       "      <td>\\tChrome WebView 85</td>\n",
       "      <td>\\tWeb</td>\n",
       "      <td>\\tSeoul</td>\n",
       "      <td>\\tFalse</td>\n",
       "      <td>\\tTrue</td>\n",
       "      <td>\\tTrue</td>\n",
       "      <td>\\t20200118</td>\n",
       "      <td>\\temail</td>\n",
       "      <td>\\tandroid app</td>\n",
       "    </tr>\n",
       "    <tr>\n",
       "      <th>...</th>\n",
       "      <td>...</td>\n",
       "      <td>...</td>\n",
       "      <td>...</td>\n",
       "      <td>...</td>\n",
       "      <td>...</td>\n",
       "      <td>...</td>\n",
       "      <td>...</td>\n",
       "      <td>...</td>\n",
       "      <td>...</td>\n",
       "      <td>...</td>\n",
       "      <td>...</td>\n",
       "      <td>...</td>\n",
       "      <td>...</td>\n",
       "      <td>...</td>\n",
       "      <td>...</td>\n",
       "      <td>...</td>\n",
       "      <td>...</td>\n",
       "      <td>...</td>\n",
       "    </tr>\n",
       "    <tr>\n",
       "      <th>3269</th>\n",
       "      <td>210191694094</td>\n",
       "      <td>\\t</td>\n",
       "      <td>\\tSeoul</td>\n",
       "      <td>\\tSouth Korea</td>\n",
       "      <td>\\tAndroid</td>\n",
       "      <td>\\tAndroid</td>\n",
       "      <td>\\t223.38.54.188</td>\n",
       "      <td>\\tKorean</td>\n",
       "      <td>\\tamplitude-js/7.1.1</td>\n",
       "      <td>\\tSamsung Browser 13</td>\n",
       "      <td>\\tWeb</td>\n",
       "      <td>\\tSeoul</td>\n",
       "      <td>\\t</td>\n",
       "      <td>\\t</td>\n",
       "      <td>\\tFalse</td>\n",
       "      <td>\\t</td>\n",
       "      <td>\\t</td>\n",
       "      <td>\\tweb</td>\n",
       "    </tr>\n",
       "    <tr>\n",
       "      <th>3270</th>\n",
       "      <td>210195107592</td>\n",
       "      <td>\\t</td>\n",
       "      <td>\\tSeoul</td>\n",
       "      <td>\\tSouth Korea</td>\n",
       "      <td>\\tApple iPhone</td>\n",
       "      <td>\\tApple iPhone</td>\n",
       "      <td>\\t110.70.51.231</td>\n",
       "      <td>\\tKorean</td>\n",
       "      <td>\\tamplitude-js/7.1.1</td>\n",
       "      <td>\\tMobile Safari 14</td>\n",
       "      <td>\\tWeb</td>\n",
       "      <td>\\tSeoul</td>\n",
       "      <td>\\t</td>\n",
       "      <td>\\t</td>\n",
       "      <td>\\tFalse</td>\n",
       "      <td>\\t</td>\n",
       "      <td>\\t</td>\n",
       "      <td>\\tweb</td>\n",
       "    </tr>\n",
       "    <tr>\n",
       "      <th>3271</th>\n",
       "      <td>210202710858</td>\n",
       "      <td>\\t</td>\n",
       "      <td>\\t</td>\n",
       "      <td>\\tSouth Korea</td>\n",
       "      <td>\\tAndroid</td>\n",
       "      <td>\\tAndroid</td>\n",
       "      <td>\\t223.33.184.239</td>\n",
       "      <td>\\tKorean</td>\n",
       "      <td>\\tamplitude-js/7.1.1</td>\n",
       "      <td>\\tSamsung Browser 12</td>\n",
       "      <td>\\tWeb</td>\n",
       "      <td>\\t</td>\n",
       "      <td>\\t</td>\n",
       "      <td>\\t</td>\n",
       "      <td>\\tFalse</td>\n",
       "      <td>\\t</td>\n",
       "      <td>\\t</td>\n",
       "      <td>\\tweb</td>\n",
       "    </tr>\n",
       "    <tr>\n",
       "      <th>3272</th>\n",
       "      <td>210239094674</td>\n",
       "      <td>\\t</td>\n",
       "      <td>\\tBusan</td>\n",
       "      <td>\\tSouth Korea</td>\n",
       "      <td>\\tMac</td>\n",
       "      <td>\\tMac</td>\n",
       "      <td>\\t14.43.52.237</td>\n",
       "      <td>\\tKorean</td>\n",
       "      <td>\\tamplitude-js/7.1.1</td>\n",
       "      <td>\\tSafari 13</td>\n",
       "      <td>\\tWeb</td>\n",
       "      <td>\\tBusan</td>\n",
       "      <td>\\t</td>\n",
       "      <td>\\t</td>\n",
       "      <td>\\tFalse</td>\n",
       "      <td>\\t</td>\n",
       "      <td>\\t</td>\n",
       "      <td>\\tweb</td>\n",
       "    </tr>\n",
       "    <tr>\n",
       "      <th>3273</th>\n",
       "      <td>210268518353</td>\n",
       "      <td>\\t</td>\n",
       "      <td>\\tYongin-si</td>\n",
       "      <td>\\tSouth Korea</td>\n",
       "      <td>\\tAndroid</td>\n",
       "      <td>\\tAndroid</td>\n",
       "      <td>\\t14.7.41.231</td>\n",
       "      <td>\\tKorean</td>\n",
       "      <td>\\tamplitude-js/7.1.1</td>\n",
       "      <td>\\tSamsung Browser 12</td>\n",
       "      <td>\\tWeb</td>\n",
       "      <td>\\tGyeonggi-do</td>\n",
       "      <td>\\t</td>\n",
       "      <td>\\t</td>\n",
       "      <td>\\tFalse</td>\n",
       "      <td>\\t</td>\n",
       "      <td>\\t</td>\n",
       "      <td>\\tweb</td>\n",
       "    </tr>\n",
       "  </tbody>\n",
       "</table>\n",
       "<p>3274 rows × 18 columns</p>\n",
       "</div>"
      ],
      "text/plain": [
       "      \\tamplitude_id \\tuser_id       \\tcity      \\tcountry        \\tdevice  \\\n",
       "0       193812365143        \\t      \\tSeoul  \\tSouth Korea       \\tAndroid   \n",
       "1       193817504449        \\t  \\tYongin-si  \\tSouth Korea  \\tApple iPhone   \n",
       "2       193824210458        \\t      \\tSeoul  \\tSouth Korea  \\tApple iPhone   \n",
       "3       193825902534   \\t17967  \\tGurye-gun  \\tSouth Korea  \\tApple iPhone   \n",
       "4       193832337826    \\t2607      \\tSeoul  \\tSouth Korea       \\tAndroid   \n",
       "...              ...       ...          ...            ...             ...   \n",
       "3269    210191694094        \\t      \\tSeoul  \\tSouth Korea       \\tAndroid   \n",
       "3270    210195107592        \\t      \\tSeoul  \\tSouth Korea  \\tApple iPhone   \n",
       "3271    210202710858        \\t           \\t  \\tSouth Korea       \\tAndroid   \n",
       "3272    210239094674        \\t      \\tBusan  \\tSouth Korea           \\tMac   \n",
       "3273    210268518353        \\t  \\tYongin-si  \\tSouth Korea       \\tAndroid   \n",
       "\n",
       "       \\tdevice_type      \\tip_address \\tlanguage             \\tlibrary  \\\n",
       "0          \\tAndroid  \\t106.101.66.208   \\tKorean  \\tamplitude-js/7.1.1   \n",
       "1     \\tApple iPhone     \\t59.12.82.48   \\tKorean  \\tamplitude-js/7.1.1   \n",
       "2     \\tApple iPhone     \\t39.7.28.180  \\tEnglish  \\tamplitude-js/7.1.1   \n",
       "3     \\tApple iPhone  \\t117.111.174.49   \\tKorean  \\tamplitude-js/7.1.1   \n",
       "4          \\tAndroid   \\t223.39.204.67   \\tKorean  \\tamplitude-js/7.1.1   \n",
       "...              ...               ...        ...                   ...   \n",
       "3269       \\tAndroid   \\t223.38.54.188   \\tKorean  \\tamplitude-js/7.1.1   \n",
       "3270  \\tApple iPhone   \\t110.70.51.231   \\tKorean  \\tamplitude-js/7.1.1   \n",
       "3271       \\tAndroid  \\t223.33.184.239   \\tKorean  \\tamplitude-js/7.1.1   \n",
       "3272           \\tMac    \\t14.43.52.237   \\tKorean  \\tamplitude-js/7.1.1   \n",
       "3273       \\tAndroid     \\t14.7.41.231   \\tKorean  \\tamplitude-js/7.1.1   \n",
       "\n",
       "                      \\tos \\tplatform        \\tregion \\tgp:isCreator  \\\n",
       "0      \\tChrome WebView 86      \\tWeb         \\tSeoul             \\t   \n",
       "1             \\tWebKit 605      \\tWeb   \\tGyeonggi-do             \\t   \n",
       "2       \\tChrome Mobile 86      \\tWeb         \\tSeoul             \\t   \n",
       "3             \\tWebKit 605      \\tWeb  \\tJeollanam-do        \\tFalse   \n",
       "4      \\tChrome WebView 85      \\tWeb         \\tSeoul        \\tFalse   \n",
       "...                    ...        ...             ...            ...   \n",
       "3269  \\tSamsung Browser 13      \\tWeb         \\tSeoul             \\t   \n",
       "3270    \\tMobile Safari 14      \\tWeb         \\tSeoul             \\t   \n",
       "3271  \\tSamsung Browser 12      \\tWeb              \\t             \\t   \n",
       "3272           \\tSafari 13      \\tWeb         \\tBusan             \\t   \n",
       "3273  \\tSamsung Browser 12      \\tWeb   \\tGyeonggi-do             \\t   \n",
       "\n",
       "     \\tgp:isEnablePush \\tgp:isLogin \\tgp:joinedAt \\tgp:loginType  \\\n",
       "0                   \\t      \\tFalse            \\t             \\t   \n",
       "1                   \\t      \\tFalse            \\t             \\t   \n",
       "2                   \\t      \\tFalse            \\t             \\t   \n",
       "3              \\tFalse       \\tTrue    \\t20200907        \\tkakao   \n",
       "4               \\tTrue       \\tTrue    \\t20200118        \\temail   \n",
       "...                ...          ...           ...            ...   \n",
       "3269                \\t      \\tFalse            \\t             \\t   \n",
       "3270                \\t      \\tFalse            \\t             \\t   \n",
       "3271                \\t      \\tFalse            \\t             \\t   \n",
       "3272                \\t      \\tFalse            \\t             \\t   \n",
       "3273                \\t      \\tFalse            \\t             \\t   \n",
       "\n",
       "      \\tgp:platform  \n",
       "0     \\tandroid app  \n",
       "1         \\tios app  \n",
       "2             \\tweb  \n",
       "3         \\tios app  \n",
       "4     \\tandroid app  \n",
       "...             ...  \n",
       "3269          \\tweb  \n",
       "3270          \\tweb  \n",
       "3271          \\tweb  \n",
       "3272          \\tweb  \n",
       "3273          \\tweb  \n",
       "\n",
       "[3274 rows x 18 columns]"
      ]
     },
     "execution_count": 36,
     "metadata": {},
     "output_type": "execute_result"
    }
   ],
   "source": [
    " no_click_user"
   ]
  },
  {
   "cell_type": "code",
   "execution_count": 57,
   "metadata": {},
   "outputs": [],
   "source": [
    "total_user.drop([total_user.index[0]],inplace=True)"
   ]
  },
  {
   "cell_type": "code",
   "execution_count": 73,
   "metadata": {},
   "outputs": [
    {
     "data": {
      "text/html": [
       "<div>\n",
       "<style scoped>\n",
       "    .dataframe tbody tr th:only-of-type {\n",
       "        vertical-align: middle;\n",
       "    }\n",
       "\n",
       "    .dataframe tbody tr th {\n",
       "        vertical-align: top;\n",
       "    }\n",
       "\n",
       "    .dataframe thead th {\n",
       "        text-align: right;\n",
       "    }\n",
       "</style>\n",
       "<table border=\"1\" class=\"dataframe\">\n",
       "  <thead>\n",
       "    <tr style=\"text-align: right;\">\n",
       "      <th></th>\n",
       "      <th>\\tamplitude_id</th>\n",
       "      <th>\\tuser_id</th>\n",
       "      <th>\\tcity</th>\n",
       "      <th>\\tcountry</th>\n",
       "      <th>\\tdevice</th>\n",
       "      <th>\\tdevice_type</th>\n",
       "      <th>\\tdma</th>\n",
       "      <th>\\tip_address</th>\n",
       "      <th>\\tlanguage</th>\n",
       "      <th>\\tlibrary</th>\n",
       "      <th>...</th>\n",
       "      <th>\\tgp:creatorId</th>\n",
       "      <th>\\tgp:instagramId</th>\n",
       "      <th>\\tgp:isCreator</th>\n",
       "      <th>\\tgp:isEnablePush</th>\n",
       "      <th>\\tgp:isLogin</th>\n",
       "      <th>\\tgp:joinedAt</th>\n",
       "      <th>\\tgp:loginType</th>\n",
       "      <th>\\tgp:migratedAt</th>\n",
       "      <th>\\tgp:platform</th>\n",
       "      <th>event</th>\n",
       "    </tr>\n",
       "  </thead>\n",
       "  <tbody>\n",
       "    <tr>\n",
       "      <th>1</th>\n",
       "      <td>202888748231</td>\n",
       "      <td>\\t</td>\n",
       "      <td>\\tDaejeon</td>\n",
       "      <td>\\tSouth Korea</td>\n",
       "      <td>\\tAndroid</td>\n",
       "      <td>\\tAndroid</td>\n",
       "      <td>\\t</td>\n",
       "      <td>\\t121.152.19.140</td>\n",
       "      <td>\\tKorean</td>\n",
       "      <td>\\tamplitude-js/7.1.1</td>\n",
       "      <td>...</td>\n",
       "      <td>\\t</td>\n",
       "      <td>\\t</td>\n",
       "      <td>\\t</td>\n",
       "      <td>\\t</td>\n",
       "      <td>\\tFalse</td>\n",
       "      <td>\\t</td>\n",
       "      <td>\\t</td>\n",
       "      <td>\\t</td>\n",
       "      <td>\\tweb</td>\n",
       "      <td>0</td>\n",
       "    </tr>\n",
       "    <tr>\n",
       "      <th>2</th>\n",
       "      <td>207701038778</td>\n",
       "      <td>\\t</td>\n",
       "      <td>\\tGwangmyeong-si</td>\n",
       "      <td>\\tSouth Korea</td>\n",
       "      <td>\\tApple iPhone</td>\n",
       "      <td>\\tApple iPhone</td>\n",
       "      <td>\\t</td>\n",
       "      <td>\\t115.21.125.1</td>\n",
       "      <td>\\tKorean</td>\n",
       "      <td>\\tamplitude-js/7.1.1</td>\n",
       "      <td>...</td>\n",
       "      <td>\\t</td>\n",
       "      <td>\\t</td>\n",
       "      <td>\\t</td>\n",
       "      <td>\\t</td>\n",
       "      <td>\\tFalse</td>\n",
       "      <td>\\t</td>\n",
       "      <td>\\t</td>\n",
       "      <td>\\t</td>\n",
       "      <td>\\tios app</td>\n",
       "      <td>0</td>\n",
       "    </tr>\n",
       "    <tr>\n",
       "      <th>3</th>\n",
       "      <td>195133844639</td>\n",
       "      <td>\\t</td>\n",
       "      <td>\\t</td>\n",
       "      <td>\\tSouth Korea</td>\n",
       "      <td>\\tAndroid</td>\n",
       "      <td>\\tAndroid</td>\n",
       "      <td>\\t</td>\n",
       "      <td>\\t117.20.219.4</td>\n",
       "      <td>\\tKorean</td>\n",
       "      <td>\\tamplitude-js/7.1.1</td>\n",
       "      <td>...</td>\n",
       "      <td>\\t</td>\n",
       "      <td>\\t</td>\n",
       "      <td>\\t</td>\n",
       "      <td>\\t</td>\n",
       "      <td>\\tFalse</td>\n",
       "      <td>\\t</td>\n",
       "      <td>\\t</td>\n",
       "      <td>\\t</td>\n",
       "      <td>\\tweb</td>\n",
       "      <td>0</td>\n",
       "    </tr>\n",
       "    <tr>\n",
       "      <th>5</th>\n",
       "      <td>205995095352</td>\n",
       "      <td>\\t</td>\n",
       "      <td>\\tSeoul</td>\n",
       "      <td>\\tSouth Korea</td>\n",
       "      <td>\\tApple iPhone</td>\n",
       "      <td>\\tApple iPhone</td>\n",
       "      <td>\\t</td>\n",
       "      <td>\\t183.96.237.129</td>\n",
       "      <td>\\tKorean</td>\n",
       "      <td>\\tamplitude-js/7.1.1</td>\n",
       "      <td>...</td>\n",
       "      <td>\\t</td>\n",
       "      <td>\\t</td>\n",
       "      <td>\\t</td>\n",
       "      <td>\\t</td>\n",
       "      <td>\\tFalse</td>\n",
       "      <td>\\t</td>\n",
       "      <td>\\t</td>\n",
       "      <td>\\t</td>\n",
       "      <td>\\tweb</td>\n",
       "      <td>0</td>\n",
       "    </tr>\n",
       "    <tr>\n",
       "      <th>6</th>\n",
       "      <td>209296455509</td>\n",
       "      <td>\\t8261</td>\n",
       "      <td>\\tSejong</td>\n",
       "      <td>\\tSouth Korea</td>\n",
       "      <td>\\tApple iPhone</td>\n",
       "      <td>\\tApple iPhone</td>\n",
       "      <td>\\t</td>\n",
       "      <td>\\t14.50.243.190</td>\n",
       "      <td>\\tKorean</td>\n",
       "      <td>\\tamplitude-js/7.1.1</td>\n",
       "      <td>...</td>\n",
       "      <td>\\t</td>\n",
       "      <td>\\t</td>\n",
       "      <td>\\tFalse</td>\n",
       "      <td>\\tFalse</td>\n",
       "      <td>\\tTrue</td>\n",
       "      <td>\\t20200413</td>\n",
       "      <td>\\tkakao</td>\n",
       "      <td>\\t</td>\n",
       "      <td>\\tios app</td>\n",
       "      <td>0</td>\n",
       "    </tr>\n",
       "    <tr>\n",
       "      <th>...</th>\n",
       "      <td>...</td>\n",
       "      <td>...</td>\n",
       "      <td>...</td>\n",
       "      <td>...</td>\n",
       "      <td>...</td>\n",
       "      <td>...</td>\n",
       "      <td>...</td>\n",
       "      <td>...</td>\n",
       "      <td>...</td>\n",
       "      <td>...</td>\n",
       "      <td>...</td>\n",
       "      <td>...</td>\n",
       "      <td>...</td>\n",
       "      <td>...</td>\n",
       "      <td>...</td>\n",
       "      <td>...</td>\n",
       "      <td>...</td>\n",
       "      <td>...</td>\n",
       "      <td>...</td>\n",
       "      <td>...</td>\n",
       "      <td>...</td>\n",
       "    </tr>\n",
       "    <tr>\n",
       "      <th>8202</th>\n",
       "      <td>202913693819</td>\n",
       "      <td>\\t</td>\n",
       "      <td>\\tHanam-si</td>\n",
       "      <td>\\tSouth Korea</td>\n",
       "      <td>\\tWindows</td>\n",
       "      <td>\\tWindows</td>\n",
       "      <td>\\t</td>\n",
       "      <td>\\t116.47.210.74</td>\n",
       "      <td>\\tKorean</td>\n",
       "      <td>\\tamplitude-js/7.1.1</td>\n",
       "      <td>...</td>\n",
       "      <td>\\t</td>\n",
       "      <td>\\t</td>\n",
       "      <td>\\t</td>\n",
       "      <td>\\t</td>\n",
       "      <td>\\tFalse</td>\n",
       "      <td>\\t</td>\n",
       "      <td>\\t</td>\n",
       "      <td>\\t</td>\n",
       "      <td>\\tweb</td>\n",
       "      <td>0</td>\n",
       "    </tr>\n",
       "    <tr>\n",
       "      <th>8203</th>\n",
       "      <td>206198060142</td>\n",
       "      <td>\\t</td>\n",
       "      <td>\\tEunpyeong-gu</td>\n",
       "      <td>\\tSouth Korea</td>\n",
       "      <td>\\tApple iPhone</td>\n",
       "      <td>\\tApple iPhone</td>\n",
       "      <td>\\t</td>\n",
       "      <td>\\t39.124.9.66</td>\n",
       "      <td>\\tKorean</td>\n",
       "      <td>\\tamplitude-js/7.1.1</td>\n",
       "      <td>...</td>\n",
       "      <td>\\t</td>\n",
       "      <td>\\t</td>\n",
       "      <td>\\t</td>\n",
       "      <td>\\t</td>\n",
       "      <td>\\tFalse</td>\n",
       "      <td>\\t</td>\n",
       "      <td>\\t</td>\n",
       "      <td>\\t</td>\n",
       "      <td>\\tweb</td>\n",
       "      <td>0</td>\n",
       "    </tr>\n",
       "    <tr>\n",
       "      <th>8204</th>\n",
       "      <td>206301699610</td>\n",
       "      <td>\\t</td>\n",
       "      <td>\\tNowon-gu</td>\n",
       "      <td>\\tSouth Korea</td>\n",
       "      <td>\\tAndroid</td>\n",
       "      <td>\\tAndroid</td>\n",
       "      <td>\\t</td>\n",
       "      <td>\\t58.141.194.80</td>\n",
       "      <td>\\tKorean</td>\n",
       "      <td>\\tamplitude-js/7.1.1</td>\n",
       "      <td>...</td>\n",
       "      <td>\\t</td>\n",
       "      <td>\\t</td>\n",
       "      <td>\\t</td>\n",
       "      <td>\\t</td>\n",
       "      <td>\\tFalse</td>\n",
       "      <td>\\t</td>\n",
       "      <td>\\t</td>\n",
       "      <td>\\t</td>\n",
       "      <td>\\tweb</td>\n",
       "      <td>0</td>\n",
       "    </tr>\n",
       "    <tr>\n",
       "      <th>8205</th>\n",
       "      <td>206067277841</td>\n",
       "      <td>\\t</td>\n",
       "      <td>\\tBusan</td>\n",
       "      <td>\\tSouth Korea</td>\n",
       "      <td>\\tApple iPhone</td>\n",
       "      <td>\\tApple iPhone</td>\n",
       "      <td>\\t</td>\n",
       "      <td>\\t119.64.209.210</td>\n",
       "      <td>\\tKorean</td>\n",
       "      <td>\\tamplitude-js/7.1.1</td>\n",
       "      <td>...</td>\n",
       "      <td>\\t</td>\n",
       "      <td>\\t</td>\n",
       "      <td>\\t</td>\n",
       "      <td>\\t</td>\n",
       "      <td>\\tFalse</td>\n",
       "      <td>\\t</td>\n",
       "      <td>\\t</td>\n",
       "      <td>\\t</td>\n",
       "      <td>\\tweb</td>\n",
       "      <td>0</td>\n",
       "    </tr>\n",
       "    <tr>\n",
       "      <th>8206</th>\n",
       "      <td>194641382818</td>\n",
       "      <td>\\t</td>\n",
       "      <td>\\tIncheon</td>\n",
       "      <td>\\tSouth Korea</td>\n",
       "      <td>\\tAndroid</td>\n",
       "      <td>\\tAndroid</td>\n",
       "      <td>\\t</td>\n",
       "      <td>\\t223.38.47.70</td>\n",
       "      <td>\\tKorean</td>\n",
       "      <td>\\tamplitude-js/7.1.1</td>\n",
       "      <td>...</td>\n",
       "      <td>\\t</td>\n",
       "      <td>\\t</td>\n",
       "      <td>\\t</td>\n",
       "      <td>\\t</td>\n",
       "      <td>\\tFalse</td>\n",
       "      <td>\\t</td>\n",
       "      <td>\\t</td>\n",
       "      <td>\\t</td>\n",
       "      <td>\\tandroid app</td>\n",
       "      <td>0</td>\n",
       "    </tr>\n",
       "  </tbody>\n",
       "</table>\n",
       "<p>8205 rows × 23 columns</p>\n",
       "</div>"
      ],
      "text/plain": [
       "      \\tamplitude_id \\tuser_id            \\tcity      \\tcountry  \\\n",
       "1       202888748231        \\t         \\tDaejeon  \\tSouth Korea   \n",
       "2       207701038778        \\t  \\tGwangmyeong-si  \\tSouth Korea   \n",
       "3       195133844639        \\t                \\t  \\tSouth Korea   \n",
       "5       205995095352        \\t           \\tSeoul  \\tSouth Korea   \n",
       "6       209296455509    \\t8261          \\tSejong  \\tSouth Korea   \n",
       "...              ...       ...               ...            ...   \n",
       "8202    202913693819        \\t        \\tHanam-si  \\tSouth Korea   \n",
       "8203    206198060142        \\t    \\tEunpyeong-gu  \\tSouth Korea   \n",
       "8204    206301699610        \\t        \\tNowon-gu  \\tSouth Korea   \n",
       "8205    206067277841        \\t           \\tBusan  \\tSouth Korea   \n",
       "8206    194641382818        \\t         \\tIncheon  \\tSouth Korea   \n",
       "\n",
       "            \\tdevice   \\tdevice_type \\tdma      \\tip_address \\tlanguage  \\\n",
       "1          \\tAndroid       \\tAndroid    \\t  \\t121.152.19.140   \\tKorean   \n",
       "2     \\tApple iPhone  \\tApple iPhone    \\t    \\t115.21.125.1   \\tKorean   \n",
       "3          \\tAndroid       \\tAndroid    \\t    \\t117.20.219.4   \\tKorean   \n",
       "5     \\tApple iPhone  \\tApple iPhone    \\t  \\t183.96.237.129   \\tKorean   \n",
       "6     \\tApple iPhone  \\tApple iPhone    \\t   \\t14.50.243.190   \\tKorean   \n",
       "...              ...             ...   ...               ...        ...   \n",
       "8202       \\tWindows       \\tWindows    \\t   \\t116.47.210.74   \\tKorean   \n",
       "8203  \\tApple iPhone  \\tApple iPhone    \\t     \\t39.124.9.66   \\tKorean   \n",
       "8204       \\tAndroid       \\tAndroid    \\t   \\t58.141.194.80   \\tKorean   \n",
       "8205  \\tApple iPhone  \\tApple iPhone    \\t  \\t119.64.209.210   \\tKorean   \n",
       "8206       \\tAndroid       \\tAndroid    \\t    \\t223.38.47.70   \\tKorean   \n",
       "\n",
       "                 \\tlibrary  ... \\tgp:creatorId \\tgp:instagramId  \\\n",
       "1     \\tamplitude-js/7.1.1  ...             \\t               \\t   \n",
       "2     \\tamplitude-js/7.1.1  ...             \\t               \\t   \n",
       "3     \\tamplitude-js/7.1.1  ...             \\t               \\t   \n",
       "5     \\tamplitude-js/7.1.1  ...             \\t               \\t   \n",
       "6     \\tamplitude-js/7.1.1  ...             \\t               \\t   \n",
       "...                    ...  ...            ...              ...   \n",
       "8202  \\tamplitude-js/7.1.1  ...             \\t               \\t   \n",
       "8203  \\tamplitude-js/7.1.1  ...             \\t               \\t   \n",
       "8204  \\tamplitude-js/7.1.1  ...             \\t               \\t   \n",
       "8205  \\tamplitude-js/7.1.1  ...             \\t               \\t   \n",
       "8206  \\tamplitude-js/7.1.1  ...             \\t               \\t   \n",
       "\n",
       "     \\tgp:isCreator \\tgp:isEnablePush \\tgp:isLogin \\tgp:joinedAt  \\\n",
       "1                \\t                \\t      \\tFalse            \\t   \n",
       "2                \\t                \\t      \\tFalse            \\t   \n",
       "3                \\t                \\t      \\tFalse            \\t   \n",
       "5                \\t                \\t      \\tFalse            \\t   \n",
       "6           \\tFalse           \\tFalse       \\tTrue    \\t20200413   \n",
       "...             ...               ...          ...           ...   \n",
       "8202             \\t                \\t      \\tFalse            \\t   \n",
       "8203             \\t                \\t      \\tFalse            \\t   \n",
       "8204             \\t                \\t      \\tFalse            \\t   \n",
       "8205             \\t                \\t      \\tFalse            \\t   \n",
       "8206             \\t                \\t      \\tFalse            \\t   \n",
       "\n",
       "     \\tgp:loginType \\tgp:migratedAt  \\tgp:platform event  \n",
       "1                \\t              \\t          \\tweb     0  \n",
       "2                \\t              \\t      \\tios app     0  \n",
       "3                \\t              \\t          \\tweb     0  \n",
       "5                \\t              \\t          \\tweb     0  \n",
       "6           \\tkakao              \\t      \\tios app     0  \n",
       "...             ...             ...            ...   ...  \n",
       "8202             \\t              \\t          \\tweb     0  \n",
       "8203             \\t              \\t          \\tweb     0  \n",
       "8204             \\t              \\t          \\tweb     0  \n",
       "8205             \\t              \\t          \\tweb     0  \n",
       "8206             \\t              \\t  \\tandroid app     0  \n",
       "\n",
       "[8205 rows x 23 columns]"
      ]
     },
     "execution_count": 73,
     "metadata": {},
     "output_type": "execute_result"
    }
   ],
   "source": [
    "total_user"
   ]
  },
  {
   "cell_type": "code",
   "execution_count": 109,
   "metadata": {},
   "outputs": [],
   "source": [
    "total_user['event']=0"
   ]
  },
  {
   "cell_type": "code",
   "execution_count": 92,
   "metadata": {},
   "outputs": [
    {
     "data": {
      "text/plain": [
       "8206    0\n",
       "Name: event, dtype: int64"
      ]
     },
     "execution_count": 92,
     "metadata": {},
     "output_type": "execute_result"
    }
   ],
   "source": [
    "total_user[total_user['\\tamplitude_id']==194641382818]['event']"
   ]
  },
  {
   "cell_type": "markdown",
   "metadata": {},
   "source": [
    "### 기억) 리스트로 바꿔주어야 데이터프레임에서 인덱싱이 된다"
   ]
  },
  {
   "cell_type": "code",
   "execution_count": 101,
   "metadata": {},
   "outputs": [
    {
     "data": {
      "text/plain": [
       "209296455509"
      ]
     },
     "execution_count": 101,
     "metadata": {},
     "output_type": "execute_result"
    }
   ],
   "source": [
    "list(total_user['\\tamplitude_id'])[4] "
   ]
  },
  {
   "cell_type": "code",
   "execution_count": 119,
   "metadata": {},
   "outputs": [
    {
     "name": "stderr",
     "output_type": "stream",
     "text": [
      "C:\\Anaconda\\lib\\site-packages\\ipykernel_launcher.py:1: SettingWithCopyWarning: \n",
      "A value is trying to be set on a copy of a slice from a DataFrame.\n",
      "Try using .loc[row_indexer,col_indexer] = value instead\n",
      "\n",
      "See the caveats in the documentation: https://pandas.pydata.org/pandas-docs/stable/user_guide/indexing.html#returning-a-view-versus-a-copy\n",
      "  \"\"\"Entry point for launching an IPython kernel.\n"
     ]
    }
   ],
   "source": [
    "total_user[total_user['\\tamplitude_id'].isin(list(no_click_user['\\tamplitude_id']))]['event']=1"
   ]
  },
  {
   "cell_type": "code",
   "execution_count": 145,
   "metadata": {},
   "outputs": [],
   "source": [
    "\n",
    "########################## 기억하기!!!!\n",
    "total_user.loc[total_user['\\tamplitude_id'].isin(set(no_click_user['\\tamplitude_id'])),'event' ] = 1"
   ]
  },
  {
   "cell_type": "code",
   "execution_count": 102,
   "metadata": {},
   "outputs": [
    {
     "name": "stderr",
     "output_type": "stream",
     "text": [
      "C:\\Anaconda\\lib\\site-packages\\ipykernel_launcher.py:4: SettingWithCopyWarning: \n",
      "A value is trying to be set on a copy of a slice from a DataFrame\n",
      "\n",
      "See the caveats in the documentation: https://pandas.pydata.org/pandas-docs/stable/user_guide/indexing.html#returning-a-view-versus-a-copy\n",
      "  after removing the cwd from sys.path.\n"
     ]
    },
    {
     "ename": "KeyboardInterrupt",
     "evalue": "",
     "output_type": "error",
     "traceback": [
      "\u001b[1;31m---------------------------------------------------------------------------\u001b[0m",
      "\u001b[1;31mKeyboardInterrupt\u001b[0m                         Traceback (most recent call last)",
      "\u001b[1;32m<ipython-input-102-0c3e6bc9063f>\u001b[0m in \u001b[0;36m<module>\u001b[1;34m\u001b[0m\n\u001b[0;32m      1\u001b[0m \u001b[1;32mfor\u001b[0m \u001b[0mi\u001b[0m \u001b[1;32min\u001b[0m \u001b[0mrange\u001b[0m\u001b[1;33m(\u001b[0m\u001b[0mlen\u001b[0m\u001b[1;33m(\u001b[0m\u001b[0mtotal_user\u001b[0m\u001b[1;33m)\u001b[0m\u001b[1;33m)\u001b[0m\u001b[1;33m:\u001b[0m\u001b[1;33m\u001b[0m\u001b[1;33m\u001b[0m\u001b[0m\n\u001b[0;32m      2\u001b[0m     \u001b[1;32mfor\u001b[0m \u001b[0mj\u001b[0m \u001b[1;32min\u001b[0m \u001b[0mrange\u001b[0m\u001b[1;33m(\u001b[0m\u001b[0mlen\u001b[0m\u001b[1;33m(\u001b[0m\u001b[0mno_click_user\u001b[0m\u001b[1;33m)\u001b[0m\u001b[1;33m)\u001b[0m\u001b[1;33m:\u001b[0m\u001b[1;33m\u001b[0m\u001b[1;33m\u001b[0m\u001b[0m\n\u001b[1;32m----> 3\u001b[1;33m         \u001b[1;32mif\u001b[0m \u001b[0mlist\u001b[0m\u001b[1;33m(\u001b[0m\u001b[0mtotal_user\u001b[0m\u001b[1;33m[\u001b[0m\u001b[1;34m'\\tamplitude_id'\u001b[0m\u001b[1;33m]\u001b[0m\u001b[1;33m)\u001b[0m\u001b[1;33m[\u001b[0m\u001b[0mi\u001b[0m\u001b[1;33m]\u001b[0m\u001b[1;33m==\u001b[0m\u001b[0mno_click_user\u001b[0m\u001b[1;33m[\u001b[0m\u001b[1;34m'\\tamplitude_id'\u001b[0m\u001b[1;33m]\u001b[0m\u001b[1;33m[\u001b[0m\u001b[0mj\u001b[0m\u001b[1;33m]\u001b[0m\u001b[1;33m:\u001b[0m\u001b[1;33m\u001b[0m\u001b[1;33m\u001b[0m\u001b[0m\n\u001b[0m\u001b[0;32m      4\u001b[0m                       \u001b[0mtotal_user\u001b[0m\u001b[1;33m[\u001b[0m\u001b[1;34m'event'\u001b[0m\u001b[1;33m]\u001b[0m\u001b[1;33m[\u001b[0m\u001b[0mi\u001b[0m\u001b[1;33m]\u001b[0m\u001b[1;33m=\u001b[0m\u001b[1;36m1\u001b[0m\u001b[1;33m\u001b[0m\u001b[1;33m\u001b[0m\u001b[0m\n",
      "\u001b[1;31mKeyboardInterrupt\u001b[0m: "
     ]
    }
   ],
   "source": [
    "# 이중 포문을 사용할 경우 너무 오래걸림\n",
    "for i in range(len(total_user)):\n",
    "    for j in range(len(no_click_user)):\n",
    "        if list(total_user['\\tamplitude_id'])[i]==no_click_user['\\tamplitude_id'][j]:\n",
    "                      total_user['event'][i]=1"
   ]
  },
  {
   "cell_type": "code",
   "execution_count": 146,
   "metadata": {},
   "outputs": [
    {
     "data": {
      "text/plain": [
       "3273"
      ]
     },
     "execution_count": 146,
     "metadata": {},
     "output_type": "execute_result"
    }
   ],
   "source": [
    "total_user['event'].sum()"
   ]
  },
  {
   "cell_type": "code",
   "execution_count": 147,
   "metadata": {},
   "outputs": [],
   "source": [
    "total_user.to_csv('total_user_ver2.csv')"
   ]
  },
  {
   "cell_type": "code",
   "execution_count": 148,
   "metadata": {},
   "outputs": [],
   "source": [
    "total=total_user"
   ]
  },
  {
   "cell_type": "markdown",
   "metadata": {},
   "source": [
    "## LGBM 분류"
   ]
  },
  {
   "cell_type": "code",
   "execution_count": 159,
   "metadata": {},
   "outputs": [],
   "source": [
    "from lightgbm import LGBMClassifier\n",
    "from sklearn.model_selection import train_test_split\n",
    "from sklearn.metrics import confusion_matrix\n",
    "from sklearn.metrics import accuracy_score, recall_score, f1_score, roc_auc_score, precision_score\n",
    "from lightgbm import plot_importance\n",
    "import matplotlib.pyplot as plt\n",
    "import re"
   ]
  },
  {
   "cell_type": "code",
   "execution_count": 149,
   "metadata": {},
   "outputs": [],
   "source": [
    "# lgbm이 인식하도록 카테고리로 변경\n",
    "#  high cardinality categorical features 일떄 원핫인코딩말고 \n",
    "# lgbm은 범주형 변수를 2개의 subset으로 잘 나눔, 클래스를 분류하는데 가장 이득을 많이 줄 수 있는 방법으로 이분화를 시킨다는 는 의미이다. 이렇게 되면 속도도 빨라지고 성능도 더 좋아진다고 한다.\n",
    "\n",
    "\n",
    "for i in total.columns:\n",
    "    total[i]=total[i].astype('category')\n"
   ]
  },
  {
   "cell_type": "code",
   "execution_count": 152,
   "metadata": {},
   "outputs": [],
   "source": [
    "# 컬럼명에 특수문자가 포함되면 lgbm이 인식못하므로 변경\n",
    "import re\n",
    "total=total.rename(columns = lambda x:re.sub('[^A-Za-z0-9_]+', '', x))\n",
    "\n"
   ]
  },
  {
   "cell_type": "code",
   "execution_count": 156,
   "metadata": {},
   "outputs": [
    {
     "data": {
      "text/html": [
       "<div>\n",
       "<style scoped>\n",
       "    .dataframe tbody tr th:only-of-type {\n",
       "        vertical-align: middle;\n",
       "    }\n",
       "\n",
       "    .dataframe tbody tr th {\n",
       "        vertical-align: top;\n",
       "    }\n",
       "\n",
       "    .dataframe thead th {\n",
       "        text-align: right;\n",
       "    }\n",
       "</style>\n",
       "<table border=\"1\" class=\"dataframe\">\n",
       "  <thead>\n",
       "    <tr style=\"text-align: right;\">\n",
       "      <th></th>\n",
       "      <th>amplitude_id</th>\n",
       "      <th>user_id</th>\n",
       "      <th>city</th>\n",
       "      <th>country</th>\n",
       "      <th>device</th>\n",
       "      <th>device_type</th>\n",
       "      <th>dma</th>\n",
       "      <th>ip_address</th>\n",
       "      <th>language</th>\n",
       "      <th>library</th>\n",
       "      <th>...</th>\n",
       "      <th>gpcreatorId</th>\n",
       "      <th>gpinstagramId</th>\n",
       "      <th>gpisCreator</th>\n",
       "      <th>gpisEnablePush</th>\n",
       "      <th>gpisLogin</th>\n",
       "      <th>gpjoinedAt</th>\n",
       "      <th>gploginType</th>\n",
       "      <th>gpmigratedAt</th>\n",
       "      <th>gpplatform</th>\n",
       "      <th>event</th>\n",
       "    </tr>\n",
       "  </thead>\n",
       "  <tbody>\n",
       "    <tr>\n",
       "      <th>1</th>\n",
       "      <td>202888748231</td>\n",
       "      <td>\\t</td>\n",
       "      <td>\\tDaejeon</td>\n",
       "      <td>\\tSouth Korea</td>\n",
       "      <td>\\tAndroid</td>\n",
       "      <td>\\tAndroid</td>\n",
       "      <td>\\t</td>\n",
       "      <td>\\t121.152.19.140</td>\n",
       "      <td>\\tKorean</td>\n",
       "      <td>\\tamplitude-js/7.1.1</td>\n",
       "      <td>...</td>\n",
       "      <td>\\t</td>\n",
       "      <td>\\t</td>\n",
       "      <td>\\t</td>\n",
       "      <td>\\t</td>\n",
       "      <td>\\tFalse</td>\n",
       "      <td>\\t</td>\n",
       "      <td>\\t</td>\n",
       "      <td>\\t</td>\n",
       "      <td>\\tweb</td>\n",
       "      <td>0</td>\n",
       "    </tr>\n",
       "    <tr>\n",
       "      <th>2</th>\n",
       "      <td>207701038778</td>\n",
       "      <td>\\t</td>\n",
       "      <td>\\tGwangmyeong-si</td>\n",
       "      <td>\\tSouth Korea</td>\n",
       "      <td>\\tApple iPhone</td>\n",
       "      <td>\\tApple iPhone</td>\n",
       "      <td>\\t</td>\n",
       "      <td>\\t115.21.125.1</td>\n",
       "      <td>\\tKorean</td>\n",
       "      <td>\\tamplitude-js/7.1.1</td>\n",
       "      <td>...</td>\n",
       "      <td>\\t</td>\n",
       "      <td>\\t</td>\n",
       "      <td>\\t</td>\n",
       "      <td>\\t</td>\n",
       "      <td>\\tFalse</td>\n",
       "      <td>\\t</td>\n",
       "      <td>\\t</td>\n",
       "      <td>\\t</td>\n",
       "      <td>\\tios app</td>\n",
       "      <td>0</td>\n",
       "    </tr>\n",
       "    <tr>\n",
       "      <th>3</th>\n",
       "      <td>195133844639</td>\n",
       "      <td>\\t</td>\n",
       "      <td>\\t</td>\n",
       "      <td>\\tSouth Korea</td>\n",
       "      <td>\\tAndroid</td>\n",
       "      <td>\\tAndroid</td>\n",
       "      <td>\\t</td>\n",
       "      <td>\\t117.20.219.4</td>\n",
       "      <td>\\tKorean</td>\n",
       "      <td>\\tamplitude-js/7.1.1</td>\n",
       "      <td>...</td>\n",
       "      <td>\\t</td>\n",
       "      <td>\\t</td>\n",
       "      <td>\\t</td>\n",
       "      <td>\\t</td>\n",
       "      <td>\\tFalse</td>\n",
       "      <td>\\t</td>\n",
       "      <td>\\t</td>\n",
       "      <td>\\t</td>\n",
       "      <td>\\tweb</td>\n",
       "      <td>0</td>\n",
       "    </tr>\n",
       "    <tr>\n",
       "      <th>5</th>\n",
       "      <td>205995095352</td>\n",
       "      <td>\\t</td>\n",
       "      <td>\\tSeoul</td>\n",
       "      <td>\\tSouth Korea</td>\n",
       "      <td>\\tApple iPhone</td>\n",
       "      <td>\\tApple iPhone</td>\n",
       "      <td>\\t</td>\n",
       "      <td>\\t183.96.237.129</td>\n",
       "      <td>\\tKorean</td>\n",
       "      <td>\\tamplitude-js/7.1.1</td>\n",
       "      <td>...</td>\n",
       "      <td>\\t</td>\n",
       "      <td>\\t</td>\n",
       "      <td>\\t</td>\n",
       "      <td>\\t</td>\n",
       "      <td>\\tFalse</td>\n",
       "      <td>\\t</td>\n",
       "      <td>\\t</td>\n",
       "      <td>\\t</td>\n",
       "      <td>\\tweb</td>\n",
       "      <td>1</td>\n",
       "    </tr>\n",
       "    <tr>\n",
       "      <th>6</th>\n",
       "      <td>209296455509</td>\n",
       "      <td>\\t8261</td>\n",
       "      <td>\\tSejong</td>\n",
       "      <td>\\tSouth Korea</td>\n",
       "      <td>\\tApple iPhone</td>\n",
       "      <td>\\tApple iPhone</td>\n",
       "      <td>\\t</td>\n",
       "      <td>\\t14.50.243.190</td>\n",
       "      <td>\\tKorean</td>\n",
       "      <td>\\tamplitude-js/7.1.1</td>\n",
       "      <td>...</td>\n",
       "      <td>\\t</td>\n",
       "      <td>\\t</td>\n",
       "      <td>\\tFalse</td>\n",
       "      <td>\\tFalse</td>\n",
       "      <td>\\tTrue</td>\n",
       "      <td>\\t20200413</td>\n",
       "      <td>\\tkakao</td>\n",
       "      <td>\\t</td>\n",
       "      <td>\\tios app</td>\n",
       "      <td>0</td>\n",
       "    </tr>\n",
       "    <tr>\n",
       "      <th>...</th>\n",
       "      <td>...</td>\n",
       "      <td>...</td>\n",
       "      <td>...</td>\n",
       "      <td>...</td>\n",
       "      <td>...</td>\n",
       "      <td>...</td>\n",
       "      <td>...</td>\n",
       "      <td>...</td>\n",
       "      <td>...</td>\n",
       "      <td>...</td>\n",
       "      <td>...</td>\n",
       "      <td>...</td>\n",
       "      <td>...</td>\n",
       "      <td>...</td>\n",
       "      <td>...</td>\n",
       "      <td>...</td>\n",
       "      <td>...</td>\n",
       "      <td>...</td>\n",
       "      <td>...</td>\n",
       "      <td>...</td>\n",
       "      <td>...</td>\n",
       "    </tr>\n",
       "    <tr>\n",
       "      <th>8202</th>\n",
       "      <td>202913693819</td>\n",
       "      <td>\\t</td>\n",
       "      <td>\\tHanam-si</td>\n",
       "      <td>\\tSouth Korea</td>\n",
       "      <td>\\tWindows</td>\n",
       "      <td>\\tWindows</td>\n",
       "      <td>\\t</td>\n",
       "      <td>\\t116.47.210.74</td>\n",
       "      <td>\\tKorean</td>\n",
       "      <td>\\tamplitude-js/7.1.1</td>\n",
       "      <td>...</td>\n",
       "      <td>\\t</td>\n",
       "      <td>\\t</td>\n",
       "      <td>\\t</td>\n",
       "      <td>\\t</td>\n",
       "      <td>\\tFalse</td>\n",
       "      <td>\\t</td>\n",
       "      <td>\\t</td>\n",
       "      <td>\\t</td>\n",
       "      <td>\\tweb</td>\n",
       "      <td>1</td>\n",
       "    </tr>\n",
       "    <tr>\n",
       "      <th>8203</th>\n",
       "      <td>206198060142</td>\n",
       "      <td>\\t</td>\n",
       "      <td>\\tEunpyeong-gu</td>\n",
       "      <td>\\tSouth Korea</td>\n",
       "      <td>\\tApple iPhone</td>\n",
       "      <td>\\tApple iPhone</td>\n",
       "      <td>\\t</td>\n",
       "      <td>\\t39.124.9.66</td>\n",
       "      <td>\\tKorean</td>\n",
       "      <td>\\tamplitude-js/7.1.1</td>\n",
       "      <td>...</td>\n",
       "      <td>\\t</td>\n",
       "      <td>\\t</td>\n",
       "      <td>\\t</td>\n",
       "      <td>\\t</td>\n",
       "      <td>\\tFalse</td>\n",
       "      <td>\\t</td>\n",
       "      <td>\\t</td>\n",
       "      <td>\\t</td>\n",
       "      <td>\\tweb</td>\n",
       "      <td>0</td>\n",
       "    </tr>\n",
       "    <tr>\n",
       "      <th>8204</th>\n",
       "      <td>206301699610</td>\n",
       "      <td>\\t</td>\n",
       "      <td>\\tNowon-gu</td>\n",
       "      <td>\\tSouth Korea</td>\n",
       "      <td>\\tAndroid</td>\n",
       "      <td>\\tAndroid</td>\n",
       "      <td>\\t</td>\n",
       "      <td>\\t58.141.194.80</td>\n",
       "      <td>\\tKorean</td>\n",
       "      <td>\\tamplitude-js/7.1.1</td>\n",
       "      <td>...</td>\n",
       "      <td>\\t</td>\n",
       "      <td>\\t</td>\n",
       "      <td>\\t</td>\n",
       "      <td>\\t</td>\n",
       "      <td>\\tFalse</td>\n",
       "      <td>\\t</td>\n",
       "      <td>\\t</td>\n",
       "      <td>\\t</td>\n",
       "      <td>\\tweb</td>\n",
       "      <td>0</td>\n",
       "    </tr>\n",
       "    <tr>\n",
       "      <th>8205</th>\n",
       "      <td>206067277841</td>\n",
       "      <td>\\t</td>\n",
       "      <td>\\tBusan</td>\n",
       "      <td>\\tSouth Korea</td>\n",
       "      <td>\\tApple iPhone</td>\n",
       "      <td>\\tApple iPhone</td>\n",
       "      <td>\\t</td>\n",
       "      <td>\\t119.64.209.210</td>\n",
       "      <td>\\tKorean</td>\n",
       "      <td>\\tamplitude-js/7.1.1</td>\n",
       "      <td>...</td>\n",
       "      <td>\\t</td>\n",
       "      <td>\\t</td>\n",
       "      <td>\\t</td>\n",
       "      <td>\\t</td>\n",
       "      <td>\\tFalse</td>\n",
       "      <td>\\t</td>\n",
       "      <td>\\t</td>\n",
       "      <td>\\t</td>\n",
       "      <td>\\tweb</td>\n",
       "      <td>1</td>\n",
       "    </tr>\n",
       "    <tr>\n",
       "      <th>8206</th>\n",
       "      <td>194641382818</td>\n",
       "      <td>\\t</td>\n",
       "      <td>\\tIncheon</td>\n",
       "      <td>\\tSouth Korea</td>\n",
       "      <td>\\tAndroid</td>\n",
       "      <td>\\tAndroid</td>\n",
       "      <td>\\t</td>\n",
       "      <td>\\t223.38.47.70</td>\n",
       "      <td>\\tKorean</td>\n",
       "      <td>\\tamplitude-js/7.1.1</td>\n",
       "      <td>...</td>\n",
       "      <td>\\t</td>\n",
       "      <td>\\t</td>\n",
       "      <td>\\t</td>\n",
       "      <td>\\t</td>\n",
       "      <td>\\tFalse</td>\n",
       "      <td>\\t</td>\n",
       "      <td>\\t</td>\n",
       "      <td>\\t</td>\n",
       "      <td>\\tandroid app</td>\n",
       "      <td>0</td>\n",
       "    </tr>\n",
       "  </tbody>\n",
       "</table>\n",
       "<p>8205 rows × 23 columns</p>\n",
       "</div>"
      ],
      "text/plain": [
       "      amplitude_id user_id              city        country          device  \\\n",
       "1     202888748231      \\t         \\tDaejeon  \\tSouth Korea       \\tAndroid   \n",
       "2     207701038778      \\t  \\tGwangmyeong-si  \\tSouth Korea  \\tApple iPhone   \n",
       "3     195133844639      \\t                \\t  \\tSouth Korea       \\tAndroid   \n",
       "5     205995095352      \\t           \\tSeoul  \\tSouth Korea  \\tApple iPhone   \n",
       "6     209296455509  \\t8261          \\tSejong  \\tSouth Korea  \\tApple iPhone   \n",
       "...            ...     ...               ...            ...             ...   \n",
       "8202  202913693819      \\t        \\tHanam-si  \\tSouth Korea       \\tWindows   \n",
       "8203  206198060142      \\t    \\tEunpyeong-gu  \\tSouth Korea  \\tApple iPhone   \n",
       "8204  206301699610      \\t        \\tNowon-gu  \\tSouth Korea       \\tAndroid   \n",
       "8205  206067277841      \\t           \\tBusan  \\tSouth Korea  \\tApple iPhone   \n",
       "8206  194641382818      \\t         \\tIncheon  \\tSouth Korea       \\tAndroid   \n",
       "\n",
       "         device_type dma        ip_address  language               library  \\\n",
       "1          \\tAndroid  \\t  \\t121.152.19.140  \\tKorean  \\tamplitude-js/7.1.1   \n",
       "2     \\tApple iPhone  \\t    \\t115.21.125.1  \\tKorean  \\tamplitude-js/7.1.1   \n",
       "3          \\tAndroid  \\t    \\t117.20.219.4  \\tKorean  \\tamplitude-js/7.1.1   \n",
       "5     \\tApple iPhone  \\t  \\t183.96.237.129  \\tKorean  \\tamplitude-js/7.1.1   \n",
       "6     \\tApple iPhone  \\t   \\t14.50.243.190  \\tKorean  \\tamplitude-js/7.1.1   \n",
       "...              ...  ..               ...       ...                   ...   \n",
       "8202       \\tWindows  \\t   \\t116.47.210.74  \\tKorean  \\tamplitude-js/7.1.1   \n",
       "8203  \\tApple iPhone  \\t     \\t39.124.9.66  \\tKorean  \\tamplitude-js/7.1.1   \n",
       "8204       \\tAndroid  \\t   \\t58.141.194.80  \\tKorean  \\tamplitude-js/7.1.1   \n",
       "8205  \\tApple iPhone  \\t  \\t119.64.209.210  \\tKorean  \\tamplitude-js/7.1.1   \n",
       "8206       \\tAndroid  \\t    \\t223.38.47.70  \\tKorean  \\tamplitude-js/7.1.1   \n",
       "\n",
       "      ... gpcreatorId gpinstagramId gpisCreator gpisEnablePush gpisLogin  \\\n",
       "1     ...          \\t            \\t          \\t             \\t   \\tFalse   \n",
       "2     ...          \\t            \\t          \\t             \\t   \\tFalse   \n",
       "3     ...          \\t            \\t          \\t             \\t   \\tFalse   \n",
       "5     ...          \\t            \\t          \\t             \\t   \\tFalse   \n",
       "6     ...          \\t            \\t     \\tFalse        \\tFalse    \\tTrue   \n",
       "...   ...         ...           ...         ...            ...       ...   \n",
       "8202  ...          \\t            \\t          \\t             \\t   \\tFalse   \n",
       "8203  ...          \\t            \\t          \\t             \\t   \\tFalse   \n",
       "8204  ...          \\t            \\t          \\t             \\t   \\tFalse   \n",
       "8205  ...          \\t            \\t          \\t             \\t   \\tFalse   \n",
       "8206  ...          \\t            \\t          \\t             \\t   \\tFalse   \n",
       "\n",
       "      gpjoinedAt gploginType gpmigratedAt     gpplatform event  \n",
       "1             \\t          \\t           \\t          \\tweb     0  \n",
       "2             \\t          \\t           \\t      \\tios app     0  \n",
       "3             \\t          \\t           \\t          \\tweb     0  \n",
       "5             \\t          \\t           \\t          \\tweb     1  \n",
       "6     \\t20200413     \\tkakao           \\t      \\tios app     0  \n",
       "...          ...         ...          ...            ...   ...  \n",
       "8202          \\t          \\t           \\t          \\tweb     1  \n",
       "8203          \\t          \\t           \\t          \\tweb     0  \n",
       "8204          \\t          \\t           \\t          \\tweb     0  \n",
       "8205          \\t          \\t           \\t          \\tweb     1  \n",
       "8206          \\t          \\t           \\t  \\tandroid app     0  \n",
       "\n",
       "[8205 rows x 23 columns]"
      ]
     },
     "execution_count": 156,
     "metadata": {},
     "output_type": "execute_result"
    }
   ],
   "source": [
    "total"
   ]
  },
  {
   "cell_type": "code",
   "execution_count": 157,
   "metadata": {},
   "outputs": [
    {
     "data": {
      "text/plain": [
       "1       202888748231\n",
       "2       207701038778\n",
       "3       195133844639\n",
       "5       205995095352\n",
       "6       209296455509\n",
       "            ...     \n",
       "8202    202913693819\n",
       "8203    206198060142\n",
       "8204    206301699610\n",
       "8205    206067277841\n",
       "8206    194641382818\n",
       "Name: amplitude_id, Length: 8205, dtype: category\n",
       "Categories (8205, int64): [192699969985, 193756920604, 193759323635, 193759512990, ..., 210349756948, 210399059315, 210434199686, 210440456028]"
      ]
     },
     "execution_count": 157,
     "metadata": {},
     "output_type": "execute_result"
    }
   ],
   "source": [
    "total['amplitude_id']"
   ]
  },
  {
   "cell_type": "code",
   "execution_count": 160,
   "metadata": {},
   "outputs": [],
   "source": [
    "X_train, X_test, Y_train, Y_test = train_test_split(total.drop(['event'],axis=1), total['event'], test_size=0.3, random_state=321)"
   ]
  },
  {
   "cell_type": "code",
   "execution_count": 161,
   "metadata": {},
   "outputs": [],
   "source": [
    "lgbm= LGBMClassifier(n_estimator=400)"
   ]
  },
  {
   "cell_type": "code",
   "execution_count": 162,
   "metadata": {},
   "outputs": [
    {
     "data": {
      "text/plain": [
       "LGBMClassifier(n_estimator=400)"
      ]
     },
     "execution_count": 162,
     "metadata": {},
     "output_type": "execute_result"
    }
   ],
   "source": [
    "lgbm.fit(X_train,Y_train)"
   ]
  },
  {
   "cell_type": "code",
   "execution_count": 163,
   "metadata": {},
   "outputs": [],
   "source": [
    "preds=lgbm.predict(X_test)"
   ]
  },
  {
   "cell_type": "code",
   "execution_count": 182,
   "metadata": {},
   "outputs": [
    {
     "data": {
      "text/plain": [
       "975"
      ]
     },
     "execution_count": 182,
     "metadata": {},
     "output_type": "execute_result"
    }
   ],
   "source": [
    "count=0\n",
    "for i in range(len(Y_test)):\n",
    "    if list(Y_test)[i]==1:\n",
    "        count+=1\n",
    "count"
   ]
  },
  {
   "cell_type": "code",
   "execution_count": 183,
   "metadata": {},
   "outputs": [
    {
     "data": {
      "text/plain": [
       "2462"
      ]
     },
     "execution_count": 183,
     "metadata": {},
     "output_type": "execute_result"
    }
   ],
   "source": [
    "len(Y_test)"
   ]
  },
  {
   "cell_type": "code",
   "execution_count": 164,
   "metadata": {},
   "outputs": [
    {
     "data": {
      "text/plain": [
       "array([[1059,  428],\n",
       "       [ 517,  458]], dtype=int64)"
      ]
     },
     "execution_count": 164,
     "metadata": {},
     "output_type": "execute_result"
    }
   ],
   "source": [
    "confusion_matrix(Y_test,preds)"
   ]
  },
  {
   "cell_type": "code",
   "execution_count": 165,
   "metadata": {},
   "outputs": [
    {
     "data": {
      "text/plain": [
       "0.6161657189277011"
      ]
     },
     "execution_count": 165,
     "metadata": {},
     "output_type": "execute_result"
    }
   ],
   "source": [
    "accuracy_score(Y_test,preds)"
   ]
  },
  {
   "cell_type": "code",
   "execution_count": 166,
   "metadata": {},
   "outputs": [
    {
     "data": {
      "text/plain": [
       "0.5169300225733634"
      ]
     },
     "execution_count": 166,
     "metadata": {},
     "output_type": "execute_result"
    }
   ],
   "source": [
    "precision_score(Y_test,preds)"
   ]
  },
  {
   "cell_type": "code",
   "execution_count": 167,
   "metadata": {},
   "outputs": [
    {
     "data": {
      "text/plain": [
       "0.46974358974358976"
      ]
     },
     "execution_count": 167,
     "metadata": {},
     "output_type": "execute_result"
    }
   ],
   "source": [
    "recall_score(Y_test,preds)"
   ]
  },
  {
   "cell_type": "code",
   "execution_count": 168,
   "metadata": {},
   "outputs": [
    {
     "data": {
      "text/plain": [
       "0.49220849005910805"
      ]
     },
     "execution_count": 168,
     "metadata": {},
     "output_type": "execute_result"
    }
   ],
   "source": [
    "f1_score(Y_test,preds)"
   ]
  },
  {
   "cell_type": "code",
   "execution_count": 169,
   "metadata": {},
   "outputs": [
    {
     "data": {
      "text/plain": [
       "<matplotlib.axes._subplots.AxesSubplot at 0x1ed474f4908>"
      ]
     },
     "execution_count": 169,
     "metadata": {},
     "output_type": "execute_result"
    },
    {
     "data": {
      "image/png": "[encoded data removed]",
      "text/plain": [
       "<Figure size 432x288 with 1 Axes>"
      ]
     },
     "metadata": {
      "needs_background": "light"
     },
     "output_type": "display_data"
    }
   ],
   "source": [
    "# feature importance\n",
    "plot_importance(lgbm)"
   ]
  },
  {
   "cell_type": "markdown",
   "metadata": {},
   "source": [
    "## 오버샘플링"
   ]
  },
  {
   "cell_type": "code",
   "execution_count": 35,
   "metadata": {},
   "outputs": [],
   "source": [
    "from imblearn import under_sampling, over_sampling\n",
    "from imblearn.over_sampling import SMOTE"
   ]
  },
  {
   "cell_type": "code",
   "execution_count": 36,
   "metadata": {},
   "outputs": [],
   "source": [
    "sm = SMOTE()"
   ]
  },
  {
   "cell_type": "code",
   "execution_count": 37,
   "metadata": {},
   "outputs": [
    {
     "ename": "ValueError",
     "evalue": "could not convert string to float: '\\tGangdong-gu'",
     "output_type": "error",
     "traceback": [
      "\u001b[1;31m---------------------------------------------------------------------------\u001b[0m",
      "\u001b[1;31mValueError\u001b[0m                                Traceback (most recent call last)",
      "\u001b[1;32m<ipython-input-37-058de65f0d03>\u001b[0m in \u001b[0;36m<module>\u001b[1;34m\u001b[0m\n\u001b[0;32m      2\u001b[0m \u001b[1;31m# -> 사이킷런 버전 에러 0.23이상 필요\u001b[0m\u001b[1;33m\u001b[0m\u001b[1;33m\u001b[0m\u001b[1;33m\u001b[0m\u001b[0m\n\u001b[0;32m      3\u001b[0m \u001b[0msmote\u001b[0m \u001b[1;33m=\u001b[0m \u001b[0mSMOTE\u001b[0m\u001b[1;33m(\u001b[0m\u001b[0mrandom_state\u001b[0m\u001b[1;33m=\u001b[0m\u001b[1;36m11\u001b[0m\u001b[1;33m)\u001b[0m\u001b[1;33m\u001b[0m\u001b[1;33m\u001b[0m\u001b[0m\n\u001b[1;32m----> 4\u001b[1;33m \u001b[0mX_train_over\u001b[0m\u001b[1;33m,\u001b[0m \u001b[0my_train_over\u001b[0m \u001b[1;33m=\u001b[0m \u001b[0msmote\u001b[0m\u001b[1;33m.\u001b[0m\u001b[0mfit_sample\u001b[0m\u001b[1;33m(\u001b[0m\u001b[0mX_train\u001b[0m\u001b[1;33m,\u001b[0m \u001b[0mY_train\u001b[0m\u001b[1;33m)\u001b[0m\u001b[1;33m\u001b[0m\u001b[1;33m\u001b[0m\u001b[0m\n\u001b[0m",
      "\u001b[1;32mC:\\Anaconda\\lib\\site-packages\\imblearn\\base.py\u001b[0m in \u001b[0;36mfit_resample\u001b[1;34m(self, X, y)\u001b[0m\n\u001b[0;32m     75\u001b[0m         \u001b[0mcheck_classification_targets\u001b[0m\u001b[1;33m(\u001b[0m\u001b[0my\u001b[0m\u001b[1;33m)\u001b[0m\u001b[1;33m\u001b[0m\u001b[1;33m\u001b[0m\u001b[0m\n\u001b[0;32m     76\u001b[0m         \u001b[0marrays_transformer\u001b[0m \u001b[1;33m=\u001b[0m \u001b[0mArraysTransformer\u001b[0m\u001b[1;33m(\u001b[0m\u001b[0mX\u001b[0m\u001b[1;33m,\u001b[0m \u001b[0my\u001b[0m\u001b[1;33m)\u001b[0m\u001b[1;33m\u001b[0m\u001b[1;33m\u001b[0m\u001b[0m\n\u001b[1;32m---> 77\u001b[1;33m         \u001b[0mX\u001b[0m\u001b[1;33m,\u001b[0m \u001b[0my\u001b[0m\u001b[1;33m,\u001b[0m \u001b[0mbinarize_y\u001b[0m \u001b[1;33m=\u001b[0m \u001b[0mself\u001b[0m\u001b[1;33m.\u001b[0m\u001b[0m_check_X_y\u001b[0m\u001b[1;33m(\u001b[0m\u001b[0mX\u001b[0m\u001b[1;33m,\u001b[0m \u001b[0my\u001b[0m\u001b[1;33m)\u001b[0m\u001b[1;33m\u001b[0m\u001b[1;33m\u001b[0m\u001b[0m\n\u001b[0m\u001b[0;32m     78\u001b[0m \u001b[1;33m\u001b[0m\u001b[0m\n\u001b[0;32m     79\u001b[0m         self.sampling_strategy_ = check_sampling_strategy(\n",
      "\u001b[1;32mC:\\Anaconda\\lib\\site-packages\\imblearn\\base.py\u001b[0m in \u001b[0;36m_check_X_y\u001b[1;34m(self, X, y, accept_sparse)\u001b[0m\n\u001b[0;32m    133\u001b[0m         \u001b[0my\u001b[0m\u001b[1;33m,\u001b[0m \u001b[0mbinarize_y\u001b[0m \u001b[1;33m=\u001b[0m \u001b[0mcheck_target_type\u001b[0m\u001b[1;33m(\u001b[0m\u001b[0my\u001b[0m\u001b[1;33m,\u001b[0m \u001b[0mindicate_one_vs_all\u001b[0m\u001b[1;33m=\u001b[0m\u001b[1;32mTrue\u001b[0m\u001b[1;33m)\u001b[0m\u001b[1;33m\u001b[0m\u001b[1;33m\u001b[0m\u001b[0m\n\u001b[0;32m    134\u001b[0m         X, y = self._validate_data(\n\u001b[1;32m--> 135\u001b[1;33m             \u001b[0mX\u001b[0m\u001b[1;33m,\u001b[0m \u001b[0my\u001b[0m\u001b[1;33m,\u001b[0m \u001b[0mreset\u001b[0m\u001b[1;33m=\u001b[0m\u001b[1;32mTrue\u001b[0m\u001b[1;33m,\u001b[0m \u001b[0maccept_sparse\u001b[0m\u001b[1;33m=\u001b[0m\u001b[0maccept_sparse\u001b[0m\u001b[1;33m\u001b[0m\u001b[1;33m\u001b[0m\u001b[0m\n\u001b[0m\u001b[0;32m    136\u001b[0m         )\n\u001b[0;32m    137\u001b[0m         \u001b[1;32mreturn\u001b[0m \u001b[0mX\u001b[0m\u001b[1;33m,\u001b[0m \u001b[0my\u001b[0m\u001b[1;33m,\u001b[0m \u001b[0mbinarize_y\u001b[0m\u001b[1;33m\u001b[0m\u001b[1;33m\u001b[0m\u001b[0m\n",
      "\u001b[1;32mC:\\Anaconda\\lib\\site-packages\\sklearn\\base.py\u001b[0m in \u001b[0;36m_validate_data\u001b[1;34m(self, X, y, reset, validate_separately, **check_params)\u001b[0m\n\u001b[0;32m    430\u001b[0m                 \u001b[0my\u001b[0m \u001b[1;33m=\u001b[0m \u001b[0mcheck_array\u001b[0m\u001b[1;33m(\u001b[0m\u001b[0my\u001b[0m\u001b[1;33m,\u001b[0m \u001b[1;33m**\u001b[0m\u001b[0mcheck_y_params\u001b[0m\u001b[1;33m)\u001b[0m\u001b[1;33m\u001b[0m\u001b[1;33m\u001b[0m\u001b[0m\n\u001b[0;32m    431\u001b[0m             \u001b[1;32melse\u001b[0m\u001b[1;33m:\u001b[0m\u001b[1;33m\u001b[0m\u001b[1;33m\u001b[0m\u001b[0m\n\u001b[1;32m--> 432\u001b[1;33m                 \u001b[0mX\u001b[0m\u001b[1;33m,\u001b[0m \u001b[0my\u001b[0m \u001b[1;33m=\u001b[0m \u001b[0mcheck_X_y\u001b[0m\u001b[1;33m(\u001b[0m\u001b[0mX\u001b[0m\u001b[1;33m,\u001b[0m \u001b[0my\u001b[0m\u001b[1;33m,\u001b[0m \u001b[1;33m**\u001b[0m\u001b[0mcheck_params\u001b[0m\u001b[1;33m)\u001b[0m\u001b[1;33m\u001b[0m\u001b[1;33m\u001b[0m\u001b[0m\n\u001b[0m\u001b[0;32m    433\u001b[0m             \u001b[0mout\u001b[0m \u001b[1;33m=\u001b[0m \u001b[0mX\u001b[0m\u001b[1;33m,\u001b[0m \u001b[0my\u001b[0m\u001b[1;33m\u001b[0m\u001b[1;33m\u001b[0m\u001b[0m\n\u001b[0;32m    434\u001b[0m \u001b[1;33m\u001b[0m\u001b[0m\n",
      "\u001b[1;32mC:\\Anaconda\\lib\\site-packages\\sklearn\\utils\\validation.py\u001b[0m in \u001b[0;36minner_f\u001b[1;34m(*args, **kwargs)\u001b[0m\n\u001b[0;32m     71\u001b[0m                           FutureWarning)\n\u001b[0;32m     72\u001b[0m         \u001b[0mkwargs\u001b[0m\u001b[1;33m.\u001b[0m\u001b[0mupdate\u001b[0m\u001b[1;33m(\u001b[0m\u001b[1;33m{\u001b[0m\u001b[0mk\u001b[0m\u001b[1;33m:\u001b[0m \u001b[0marg\u001b[0m \u001b[1;32mfor\u001b[0m \u001b[0mk\u001b[0m\u001b[1;33m,\u001b[0m \u001b[0marg\u001b[0m \u001b[1;32min\u001b[0m \u001b[0mzip\u001b[0m\u001b[1;33m(\u001b[0m\u001b[0msig\u001b[0m\u001b[1;33m.\u001b[0m\u001b[0mparameters\u001b[0m\u001b[1;33m,\u001b[0m \u001b[0margs\u001b[0m\u001b[1;33m)\u001b[0m\u001b[1;33m}\u001b[0m\u001b[1;33m)\u001b[0m\u001b[1;33m\u001b[0m\u001b[1;33m\u001b[0m\u001b[0m\n\u001b[1;32m---> 73\u001b[1;33m         \u001b[1;32mreturn\u001b[0m \u001b[0mf\u001b[0m\u001b[1;33m(\u001b[0m\u001b[1;33m**\u001b[0m\u001b[0mkwargs\u001b[0m\u001b[1;33m)\u001b[0m\u001b[1;33m\u001b[0m\u001b[1;33m\u001b[0m\u001b[0m\n\u001b[0m\u001b[0;32m     74\u001b[0m     \u001b[1;32mreturn\u001b[0m \u001b[0minner_f\u001b[0m\u001b[1;33m\u001b[0m\u001b[1;33m\u001b[0m\u001b[0m\n\u001b[0;32m     75\u001b[0m \u001b[1;33m\u001b[0m\u001b[0m\n",
      "\u001b[1;32mC:\\Anaconda\\lib\\site-packages\\sklearn\\utils\\validation.py\u001b[0m in \u001b[0;36mcheck_X_y\u001b[1;34m(X, y, accept_sparse, accept_large_sparse, dtype, order, copy, force_all_finite, ensure_2d, allow_nd, multi_output, ensure_min_samples, ensure_min_features, y_numeric, estimator)\u001b[0m\n\u001b[0;32m    801\u001b[0m                     \u001b[0mensure_min_samples\u001b[0m\u001b[1;33m=\u001b[0m\u001b[0mensure_min_samples\u001b[0m\u001b[1;33m,\u001b[0m\u001b[1;33m\u001b[0m\u001b[1;33m\u001b[0m\u001b[0m\n\u001b[0;32m    802\u001b[0m                     \u001b[0mensure_min_features\u001b[0m\u001b[1;33m=\u001b[0m\u001b[0mensure_min_features\u001b[0m\u001b[1;33m,\u001b[0m\u001b[1;33m\u001b[0m\u001b[1;33m\u001b[0m\u001b[0m\n\u001b[1;32m--> 803\u001b[1;33m                     estimator=estimator)\n\u001b[0m\u001b[0;32m    804\u001b[0m     \u001b[1;32mif\u001b[0m \u001b[0mmulti_output\u001b[0m\u001b[1;33m:\u001b[0m\u001b[1;33m\u001b[0m\u001b[1;33m\u001b[0m\u001b[0m\n\u001b[0;32m    805\u001b[0m         y = check_array(y, accept_sparse='csr', force_all_finite=True,\n",
      "\u001b[1;32mC:\\Anaconda\\lib\\site-packages\\sklearn\\utils\\validation.py\u001b[0m in \u001b[0;36minner_f\u001b[1;34m(*args, **kwargs)\u001b[0m\n\u001b[0;32m     71\u001b[0m                           FutureWarning)\n\u001b[0;32m     72\u001b[0m         \u001b[0mkwargs\u001b[0m\u001b[1;33m.\u001b[0m\u001b[0mupdate\u001b[0m\u001b[1;33m(\u001b[0m\u001b[1;33m{\u001b[0m\u001b[0mk\u001b[0m\u001b[1;33m:\u001b[0m \u001b[0marg\u001b[0m \u001b[1;32mfor\u001b[0m \u001b[0mk\u001b[0m\u001b[1;33m,\u001b[0m \u001b[0marg\u001b[0m \u001b[1;32min\u001b[0m \u001b[0mzip\u001b[0m\u001b[1;33m(\u001b[0m\u001b[0msig\u001b[0m\u001b[1;33m.\u001b[0m\u001b[0mparameters\u001b[0m\u001b[1;33m,\u001b[0m \u001b[0margs\u001b[0m\u001b[1;33m)\u001b[0m\u001b[1;33m}\u001b[0m\u001b[1;33m)\u001b[0m\u001b[1;33m\u001b[0m\u001b[1;33m\u001b[0m\u001b[0m\n\u001b[1;32m---> 73\u001b[1;33m         \u001b[1;32mreturn\u001b[0m \u001b[0mf\u001b[0m\u001b[1;33m(\u001b[0m\u001b[1;33m**\u001b[0m\u001b[0mkwargs\u001b[0m\u001b[1;33m)\u001b[0m\u001b[1;33m\u001b[0m\u001b[1;33m\u001b[0m\u001b[0m\n\u001b[0m\u001b[0;32m     74\u001b[0m     \u001b[1;32mreturn\u001b[0m \u001b[0minner_f\u001b[0m\u001b[1;33m\u001b[0m\u001b[1;33m\u001b[0m\u001b[0m\n\u001b[0;32m     75\u001b[0m \u001b[1;33m\u001b[0m\u001b[0m\n",
      "\u001b[1;32mC:\\Anaconda\\lib\\site-packages\\sklearn\\utils\\validation.py\u001b[0m in \u001b[0;36mcheck_array\u001b[1;34m(array, accept_sparse, accept_large_sparse, dtype, order, copy, force_all_finite, ensure_2d, allow_nd, ensure_min_samples, ensure_min_features, estimator)\u001b[0m\n\u001b[0;32m    637\u001b[0m         \u001b[1;31m# make sure we actually converted to numeric:\u001b[0m\u001b[1;33m\u001b[0m\u001b[1;33m\u001b[0m\u001b[1;33m\u001b[0m\u001b[0m\n\u001b[0;32m    638\u001b[0m         \u001b[1;32mif\u001b[0m \u001b[0mdtype_numeric\u001b[0m \u001b[1;32mand\u001b[0m \u001b[0marray\u001b[0m\u001b[1;33m.\u001b[0m\u001b[0mdtype\u001b[0m\u001b[1;33m.\u001b[0m\u001b[0mkind\u001b[0m \u001b[1;33m==\u001b[0m \u001b[1;34m\"O\"\u001b[0m\u001b[1;33m:\u001b[0m\u001b[1;33m\u001b[0m\u001b[1;33m\u001b[0m\u001b[0m\n\u001b[1;32m--> 639\u001b[1;33m             \u001b[0marray\u001b[0m \u001b[1;33m=\u001b[0m \u001b[0marray\u001b[0m\u001b[1;33m.\u001b[0m\u001b[0mastype\u001b[0m\u001b[1;33m(\u001b[0m\u001b[0mnp\u001b[0m\u001b[1;33m.\u001b[0m\u001b[0mfloat64\u001b[0m\u001b[1;33m)\u001b[0m\u001b[1;33m\u001b[0m\u001b[1;33m\u001b[0m\u001b[0m\n\u001b[0m\u001b[0;32m    640\u001b[0m         \u001b[1;32mif\u001b[0m \u001b[1;32mnot\u001b[0m \u001b[0mallow_nd\u001b[0m \u001b[1;32mand\u001b[0m \u001b[0marray\u001b[0m\u001b[1;33m.\u001b[0m\u001b[0mndim\u001b[0m \u001b[1;33m>=\u001b[0m \u001b[1;36m3\u001b[0m\u001b[1;33m:\u001b[0m\u001b[1;33m\u001b[0m\u001b[1;33m\u001b[0m\u001b[0m\n\u001b[0;32m    641\u001b[0m             raise ValueError(\"Found array with dim %d. %s expected <= 2.\"\n",
      "\u001b[1;31mValueError\u001b[0m: could not convert string to float: '\\tGangdong-gu'"
     ]
    }
   ],
   "source": [
    "\n",
    "# AttributeError: 'SMOTE' object has no attribute '_validate_data'\n",
    "# -> 사이킷런 버전 에러 0.23이상 필요 -> 해결\n",
    "\n",
    "smote = SMOTE(random_state=11)\n",
    "X_train_over, y_train_over = smote.fit_sample(X_train, Y_train)"
   ]
  },
  {
   "cell_type": "markdown",
   "metadata": {},
   "source": [
    "질) high cardinality categorical, imbalnced가 동시에 있는 데이터셋의 분류에서\n",
    "high cardinality categorical을 보완하기위해 원핫인코딩을 하지않고 lgbm에 그대로 처리하기에 냅두었습니다\n",
    "\n",
    "하지만 imbalnced 해결을 위해 smote를 적용하기 위해서는 인코딩이 필요한데 혹시 categorical data에서 오버샘플링 하는 다른 방법이 있을까요?\n",
    "\n",
    "답) 특히 high dimensional한 상황에서 imbalanced 해결을 위해서 smote나 adaysn같은 방법은 추천하지 않습니다. 거리 기반의 샘플링이기 때문에 고차원에서 단순히 거리에 의존한 방법이 잘 작동하지 않는 경우가 많기 때문입니다.\n",
    "weighted cross entropy나 cost-sensitive learning, 아니면 차라리 undersampling을 추천드립니다. 또한 비율이 1:1이 아닌 상황이라고 imbalanced 문제가 생기는 것도 아니므로 일단은 원 데이터로 분류기를 훈련해보시는 것을 추천 드립니다.\n",
    "\n",
    "target 정보를 활용하실 수 있는 상황이라면 categorical 변수를 one-hot과 같은 방식 대신에 다른 방식으로 인코딩 해보시는 것도 추천 드립니다.\n",
    "https://medium.com/@pouryaayria/k-fold-target-encoding-dfe9a594874b\n",
    "\n",
    "cost-sensitive learning은 class_weight 옵션을 분류기에서 지원하는 경우 간단하게 사용해 보실 수 있고 costcla라는 패키지도 따로 있습니다!"
   ]
  },
  {
   "cell_type": "markdown",
   "metadata": {},
   "source": [
    "# cost-sensitive learning\n",
    "\n",
    "## with randomforest"
   ]
  },
  {
   "cell_type": "code",
   "execution_count": 38,
   "metadata": {},
   "outputs": [],
   "source": [
    "from sklearn.ensemble import RandomForestClassifier"
   ]
  },
  {
   "cell_type": "code",
   "execution_count": 39,
   "metadata": {},
   "outputs": [
    {
     "name": "stderr",
     "output_type": "stream",
     "text": [
      "C:\\Anaconda\\lib\\site-packages\\sklearn\\utils\\deprecation.py:143: FutureWarning: The sklearn.ensemble.base module is  deprecated in version 0.22 and will be removed in version 0.24. The corresponding classes / functions should instead be imported from sklearn.ensemble. Anything that cannot be imported from sklearn.ensemble is now part of the private API.\n",
      "  warnings.warn(message, FutureWarning)\n"
     ]
    }
   ],
   "source": [
    "from costcla.models import CostSensitiveRandomForestClassifier\n",
    "from costcla.metrics import savings_score"
   ]
  },
  {
   "cell_type": "code",
   "execution_count": 42,
   "metadata": {},
   "outputs": [
    {
     "ename": "AttributeError",
     "evalue": "'DataFrame' object has no attribute 'cost_mat'",
     "output_type": "error",
     "traceback": [
      "\u001b[1;31m---------------------------------------------------------------------------\u001b[0m",
      "\u001b[1;31mAttributeError\u001b[0m                            Traceback (most recent call last)",
      "\u001b[1;32m<ipython-input-42-51cae82ba8d6>\u001b[0m in \u001b[0;36m<module>\u001b[1;34m\u001b[0m\n\u001b[1;32m----> 1\u001b[1;33m \u001b[0msets\u001b[0m \u001b[1;33m=\u001b[0m \u001b[0mtrain_test_split\u001b[0m\u001b[1;33m(\u001b[0m\u001b[0mtotal\u001b[0m\u001b[1;33m,\u001b[0m \u001b[0mtotal\u001b[0m\u001b[1;33m[\u001b[0m\u001b[1;34m'event'\u001b[0m\u001b[1;33m]\u001b[0m\u001b[1;33m,\u001b[0m \u001b[0mtotal\u001b[0m\u001b[1;33m.\u001b[0m\u001b[0mcost_mat\u001b[0m\u001b[1;33m,\u001b[0m \u001b[0mtest_size\u001b[0m\u001b[1;33m=\u001b[0m\u001b[1;36m0.33\u001b[0m\u001b[1;33m,\u001b[0m \u001b[0mrandom_state\u001b[0m\u001b[1;33m=\u001b[0m\u001b[1;36m321\u001b[0m\u001b[1;33m)\u001b[0m\u001b[1;33m\u001b[0m\u001b[1;33m\u001b[0m\u001b[0m\n\u001b[0m",
      "\u001b[1;32mC:\\Anaconda\\lib\\site-packages\\pandas\\core\\generic.py\u001b[0m in \u001b[0;36m__getattr__\u001b[1;34m(self, name)\u001b[0m\n\u001b[0;32m   5272\u001b[0m             \u001b[1;32mif\u001b[0m \u001b[0mself\u001b[0m\u001b[1;33m.\u001b[0m\u001b[0m_info_axis\u001b[0m\u001b[1;33m.\u001b[0m\u001b[0m_can_hold_identifiers_and_holds_name\u001b[0m\u001b[1;33m(\u001b[0m\u001b[0mname\u001b[0m\u001b[1;33m)\u001b[0m\u001b[1;33m:\u001b[0m\u001b[1;33m\u001b[0m\u001b[1;33m\u001b[0m\u001b[0m\n\u001b[0;32m   5273\u001b[0m                 \u001b[1;32mreturn\u001b[0m \u001b[0mself\u001b[0m\u001b[1;33m[\u001b[0m\u001b[0mname\u001b[0m\u001b[1;33m]\u001b[0m\u001b[1;33m\u001b[0m\u001b[1;33m\u001b[0m\u001b[0m\n\u001b[1;32m-> 5274\u001b[1;33m             \u001b[1;32mreturn\u001b[0m \u001b[0mobject\u001b[0m\u001b[1;33m.\u001b[0m\u001b[0m__getattribute__\u001b[0m\u001b[1;33m(\u001b[0m\u001b[0mself\u001b[0m\u001b[1;33m,\u001b[0m \u001b[0mname\u001b[0m\u001b[1;33m)\u001b[0m\u001b[1;33m\u001b[0m\u001b[1;33m\u001b[0m\u001b[0m\n\u001b[0m\u001b[0;32m   5275\u001b[0m \u001b[1;33m\u001b[0m\u001b[0m\n\u001b[0;32m   5276\u001b[0m     \u001b[1;32mdef\u001b[0m \u001b[0m__setattr__\u001b[0m\u001b[1;33m(\u001b[0m\u001b[0mself\u001b[0m\u001b[1;33m,\u001b[0m \u001b[0mname\u001b[0m\u001b[1;33m:\u001b[0m \u001b[0mstr\u001b[0m\u001b[1;33m,\u001b[0m \u001b[0mvalue\u001b[0m\u001b[1;33m)\u001b[0m \u001b[1;33m->\u001b[0m \u001b[1;32mNone\u001b[0m\u001b[1;33m:\u001b[0m\u001b[1;33m\u001b[0m\u001b[1;33m\u001b[0m\u001b[0m\n",
      "\u001b[1;31mAttributeError\u001b[0m: 'DataFrame' object has no attribute 'cost_mat'"
     ]
    }
   ],
   "source": [
    "sets = train_test_split(total, total['event'], total.cost_mat, test_size=0.33, random_state=321)"
   ]
  },
  {
   "cell_type": "code",
   "execution_count": null,
   "metadata": {},
   "outputs": [],
   "source": [
    "sets = train_test_split(data.data, data.target, data.cost_mat, test_size=0.33, random_state=0)\n",
    "X_train, X_test, y_train, y_test, cost_mat_train, cost_mat_test = sets\n",
    "y_pred_test_rf = RandomForestClassifier(random_state=0).fit(X_train, y_train).predict(X_test)\n",
    "f = CostSensitiveRandomForestClassifier()\n",
    " y_pred_test_csdt = f.fit(X_train, y_train, cost_mat_train).predict(X_test)"
   ]
  },
  {
   "cell_type": "code",
   "execution_count": null,
   "metadata": {},
   "outputs": [],
   "source": [
    "confusion_matrix(y_test,preds)"
   ]
  },
  {
   "cell_type": "code",
   "execution_count": null,
   "metadata": {},
   "outputs": [],
   "source": []
  },
  {
   "cell_type": "code",
   "execution_count": null,
   "metadata": {},
   "outputs": [],
   "source": []
  }
 ],
 "metadata": {
  "kernelspec": {
   "display_name": "Python 3",
   "language": "python",
   "name": "python3"
  },
  "language_info": {
   "codemirror_mode": {
    "name": "ipython",
    "version": 3
   },
   "file_extension": ".py",
   "mimetype": "text/x-python",
   "name": "python",
   "nbconvert_exporter": "python",
   "pygments_lexer": "ipython3",
   "version": "3.7.7"
  }
 },
 "nbformat": 4,
 "nbformat_minor": 4
}
